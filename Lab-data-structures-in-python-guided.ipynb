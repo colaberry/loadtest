{
 "cells": [
  {
   "cell_type": "markdown",
   "metadata": {},
   "source": [
    "# Lab: Data Structures in Python\n",
    "Welcome to your first major lab on refactored! In this lab we will work through excercise to test and solify your understanding of data structures in python. There are multiple excercise with multiple data types. \n",
    "\n"
   ]
  },
  {
   "cell_type": "code",
   "execution_count": 17,
   "metadata": {},
   "outputs": [],
   "source": [
    "from sklearn.datasets import load_iris\n",
    "\n",
    "iris_dataset = load_iris()\n",
    "target = list(iris_dataset.target) \n",
    "dataset = list(iris_dataset.data)\n",
    "target_names = list(iris_dataset.target_names)\n"
   ]
  },
  {
   "cell_type": "markdown",
   "metadata": {},
   "source": [
    "We will be using the Iris Dataset for this assigment.  To read more about the Iris Dataset go here (https://archive.ics.uci.edu/ml/datasets/iris). The Iris dataset is a very popular machine learning dataset. It is typically used to benchmark Machine Learning algorithms, almost like a scale to measure what is the effectiveness of an algorithm. For today's lab, we will be exploring the data types within the dataset and storing the data in different ways. \n",
    "\n",
    "A data set typically contains features. Which are used to predict a target. The target is what we are trying to predict. Above, we have loaded the target data into a variable called ```target```. The features data into the variable ``` dataset```. In the Iris dataset, the goal is to predict three differnt types of flowers, the names of the flowers are given in the variable ```target_names```\n",
    "\n"
   ]
  },
  {
   "cell_type": "code",
   "execution_count": 18,
   "metadata": {},
   "outputs": [
    {
     "name": "stdout",
     "output_type": "stream",
     "text": [
      "Type of each variable is \n",
      "<class 'list'> \n",
      "<class 'list'> \n",
      "<class 'list'>\n"
     ]
    }
   ],
   "source": [
    "# First we want to test the data types of the \n",
    "# three variables we have mentioned above \n",
    "\n",
    "type_target = type(target)\n",
    "type_dataset = type(dataset)\n",
    "type_target_names = type(target_names) \n",
    "\n",
    "print(\"Type of each variable is \\n{} \\n{} \\n{}\".format(type_target, type_dataset, type_target_names))\n"
   ]
  },
  {
   "cell_type": "markdown",
   "metadata": {},
   "source": [
    "Type of each variable is <br>\n",
    "<class 'list'> <br> \n",
    "<class 'list'> <br>\n",
    "<class 'list'> <br>\n",
    "\n"
   ]
  },
  {
   "cell_type": "code",
   "execution_count": 19,
   "metadata": {},
   "outputs": [
    {
     "name": "stdout",
     "output_type": "stream",
     "text": [
      "Type of each variable is \n",
      "<class 'numpy.int64'> \n",
      "<class 'numpy.ndarray'> \n",
      "<class 'numpy.str_'>\n"
     ]
    }
   ],
   "source": [
    "# Next lets check what is the type of a single element of each list\n",
    "\n",
    "type_target_single = type(target[0])\n",
    "type_dataset_single = type(dataset[0])\n",
    "type_target_names_single = type(target_names[0]) \n",
    "\n",
    "print(\"Type of each variable is \\n{} \\n{} \\n{}\".format(type_target_single, type_dataset_single, type_target_names_single))\n"
   ]
  },
  {
   "cell_type": "markdown",
   "metadata": {},
   "source": [
    "Type of each variable is <br>\n",
    "<class 'numpy.int64'> <br>\n",
    "<class 'numpy.ndarray'> <br>\n",
    "<class 'numpy.str_'> <br>"
   ]
  },
  {
   "cell_type": "markdown",
   "metadata": {},
   "source": [
    "If we print the values of target, we will find that it consists of 0s, 1s and 2s. The integers 0s, 1s and 2s are integer labels that represent each type of flower in the iris dataset. The corresponding name of the the flower is given by the ```target_names``` variable. Hence we can write a dictionary to hold this relationship"
   ]
  },
  {
   "cell_type": "code",
   "execution_count": 20,
   "metadata": {},
   "outputs": [
    {
     "name": "stdout",
     "output_type": "stream",
     "text": [
      "List of keys for int_to_name: [0, 1, 2]\n",
      "List of keys for name_to_int: ['setosa', 'versicolor', 'virginica']\n",
      "Name of second flower: versicolor\n"
     ]
    }
   ],
   "source": [
    "# Write a dictionary that maps the values 0, 1 and 2 to the names in the variable target_names. \n",
    "# The order is 0 corresponds to target_names[0], 1 corresponds to target_names[1] and 2 corresponds to target_names[2]\n",
    "\n",
    "int_to_name  = {0:target_names[0], 1:target_names[1], 2:target_names[2]}\n",
    "\n",
    "# Now build the oppose, where the keys of the dict are the target names and the integer labels are values\n",
    "name_to_int = {target_names[0]:0, target_names[1]:1, target_names[2]:2}\n",
    "\n",
    "# int to name keys\n",
    "int_name_keys = list(int_to_name.keys())\n",
    "\n",
    "# name to int keys\n",
    "name_int_keys = list(name_to_int.keys())\n",
    "\n",
    "# Test: Flower name in the second index\n",
    "second_flower = int_to_name[1]\n",
    "\n",
    "print(\"List of keys for int_to_name: {}\".format(int_name_keys))\n",
    "print(\"List of keys for name_to_int: {}\".format(name_int_keys))\n",
    "print(\"Name of second flower: {}\".format(second_flower))\n"
   ]
  },
  {
   "cell_type": "markdown",
   "metadata": {},
   "source": [
    "List of keys for int_to_name: [0, 1, 2] <br>\n",
    "List of keys for name_to_int: ['setosa', 'versicolor', 'virginica']<br>\n",
    "Name of second flower: versicolor<br>"
   ]
  },
  {
   "cell_type": "code",
   "execution_count": 21,
   "metadata": {},
   "outputs": [
    {
     "name": "stdout",
     "output_type": "stream",
     "text": [
      "The 11 th row the dataset has the values: [5.4 3.7 1.5 0.2]\n"
     ]
    }
   ],
   "source": [
    "# Next lets take a look at a row of the dataset. Select the 11 th row of the dataset\n",
    "single_row = dataset[10]\n",
    "\n",
    "# We have selected the 11th row of the dataset. Print the values \n",
    "print(\"The 11 th row the dataset has the values: {}\".format(single_row))\n",
    "\n"
   ]
  },
  {
   "cell_type": "markdown",
   "metadata": {},
   "source": [
    "The 11 th row the dataset has the values: [5.4 3.7 1.5 0.2]\n"
   ]
  },
  {
   "cell_type": "markdown",
   "metadata": {},
   "source": [
    "Each element of the list ```dataset``` is a numpy array. We will convert those to a list for you."
   ]
  },
  {
   "cell_type": "code",
   "execution_count": 22,
   "metadata": {},
   "outputs": [
    {
     "name": "stdout",
     "output_type": "stream",
     "text": [
      "The first element of the 10th row has the value: 4.9\n"
     ]
    }
   ],
   "source": [
    "# Converting a list of numpy arrays to a list lists\n",
    "dataset_list = [list(x) for x in dataset] \n",
    "\n",
    "# Get the first value of the 10th list and print it.\n",
    "# Remember that dataset_list is a of list\n",
    "element_val = dataset_list[9][0]\n",
    "print(\"The first element of the 10th row has the value: {}\".format(element_val))\n"
   ]
  },
  {
   "cell_type": "markdown",
   "metadata": {},
   "source": [
    "The first element of the 10th row has the value: 4.9"
   ]
  },
  {
   "cell_type": "markdown",
   "metadata": {},
   "source": [
    "Next we want to convert all the integer labels in target to flower names. Lets start by doing this for a single element. "
   ]
  },
  {
   "cell_type": "code",
   "execution_count": 23,
   "metadata": {},
   "outputs": [
    {
     "name": "stdout",
     "output_type": "stream",
     "text": [
      "Elements 8 through 10 are [0, 'setosa', 0]\n"
     ]
    }
   ],
   "source": [
    "target_new = target.copy()\n",
    "# Convert the 10th element in the list to a string and print elements from 8 to 10 of the list target\n",
    "target_new[9] = int_to_name[target[9]]\n",
    "\n",
    "# Print elements 8 through 10 from the list target. \n",
    "# Note for the 10th element you need to add +1 the last index. \n",
    "print(\"Elements 8 through 10 are {}\".format(target_new[8:11]))\n",
    "\n"
   ]
  },
  {
   "cell_type": "markdown",
   "metadata": {},
   "source": [
    "Elements 8 through 11 are [0, 'setosa', 0]"
   ]
  },
  {
   "cell_type": "code",
   "execution_count": 24,
   "metadata": {},
   "outputs": [
    {
     "name": "stdout",
     "output_type": "stream",
     "text": [
      "The combined list is: [4.9, 3.1, 1.5, 0.1, 'setosa']\n"
     ]
    }
   ],
   "source": [
    "# Now we want to combine 9th element of list target with the 9th element of the dataset. \n",
    "# Basically we are going to be adding two list\n",
    "\n",
    "# Store the value of the 9th row of target_new as a list\n",
    "single_target_element = [target_new[9]]\n",
    "\n",
    "# Store the 9 th row of list dataset_list\n",
    "single_row_dataset = dataset_list[9]\n",
    "\n",
    "# Combine both the lists above to get combined list. \n",
    "combined_list  = single_row_dataset + single_target_element\n",
    "\n",
    "print(\"The combined list is: {}\".format(combined_list))\n"
   ]
  },
  {
   "cell_type": "markdown",
   "metadata": {},
   "source": [
    "The combined list is: [4.9, 3.1, 1.5, 0.1, 'setosa']"
   ]
  },
  {
   "cell_type": "markdown",
   "metadata": {},
   "source": [
    "Suppose we want to remove one the elements list ```combined_list```. How will we do it? "
   ]
  },
  {
   "cell_type": "code",
   "execution_count": 25,
   "metadata": {},
   "outputs": [
    {
     "name": "stdout",
     "output_type": "stream",
     "text": [
      "The new combined list is: [4.9, 1.5, 0.1, 'setosa']\n"
     ]
    }
   ],
   "source": [
    "# Remove the 2nd element from the list combined_list. Make sure that you create a copy of it before removing it\n",
    "\n",
    "# Create a new copy of combined_list \n",
    "combined_list_new = combined_list.copy()\n",
    "\n",
    "# You can use pop to remove a element from the list by index. By default pop just removes the element of a list.\n",
    "combined_list_new.pop(1)\n",
    "\n",
    "print(\"The new combined list is: {}\".format(combined_list_new))\n",
    "\n"
   ]
  },
  {
   "cell_type": "code",
   "execution_count": 30,
   "metadata": {},
   "outputs": [
    {
     "ename": "SyntaxError",
     "evalue": "invalid syntax (<ipython-input-30-c95058e5aa90>, line 4)",
     "output_type": "error",
     "traceback": [
      "\u001b[0;36m  File \u001b[0;32m\"<ipython-input-30-c95058e5aa90>\"\u001b[0;36m, line \u001b[0;32m4\u001b[0m\n\u001b[0;31m    reversed_combined_list = combined_list_new[::-]\u001b[0m\n\u001b[0m                                                  ^\u001b[0m\n\u001b[0;31mSyntaxError\u001b[0m\u001b[0;31m:\u001b[0m invalid syntax\n"
     ]
    }
   ],
   "source": [
    "# Suppose I want reverse the new combined_list. How would be do it?\n",
    "# Hint- It is possible to do it in 1 line, we just have select everything using : \n",
    "# and use :-1 for reverse\n",
    "reversed_combined_list = combined_list_new[::-1]\n",
    "print(\"The reversed list is : {}\".format(reversed_combined_list))\n",
    "\n"
   ]
  },
  {
   "cell_type": "markdown",
   "metadata": {},
   "source": [
    "The reversed list is : ['setosa', 0.1, 1.5, 4.9]"
   ]
  },
  {
   "cell_type": "code",
   "execution_count": null,
   "metadata": {},
   "outputs": [],
   "source": [
    "# Suppose we convert the variable target to set \n",
    "target_set = set(target)\n",
    "\n",
    "# Get the length of target set \n",
    "len_target_set = len(target_set)\n",
    "print(\"Length of target set is : {}\".format(len_target_set))\n"
   ]
  },
  {
   "cell_type": "markdown",
   "metadata": {},
   "source": [
    "As you can see, by converting a list to a set we have elimanated duplicate values. A set will not store duplicated values. \n",
    "\n"
   ]
  },
  {
   "cell_type": "code",
   "execution_count": 32,
   "metadata": {
    "tags": [
     "grade",
     "hide-input"
    ]
   },
   "outputs": [
    {
     "data": {
      "text/html": [
       "<style>p.res {background-color: lightblue;} p.pas {color: green;text-align: center;font-size: 150%;} p.fail {color: red;text-align: center;font-size: 150%;}  p.wait {color: blue;text-align: center;font-size: 150%;} p.center {text-align: center;font-size: 200%;}</style><script>$('#lastidp').replaceWith('<p id=lastidp class=pas>2020-11-04 13:55:00 - Good Job,    Your result is : PASS    And your score is : 5</p>')</script>)"
      ],
      "text/plain": [
       "<IPython.core.display.HTML object>"
      ]
     },
     "metadata": {},
     "output_type": "display_data"
    }
   ],
   "source": [
    "from IPython.display import Javascript\n",
    "display(Javascript(\"\"\"var nb = IPython.notebook;\n",
    "var kernel = IPython.notebook.kernel;\n",
    "console.log(nb)\n",
    "var command = \"nb_name = '\" + nb.notebook_path  + \"'\";\n",
    "kernel.execute(command);\n",
    "var command2 = \"user_id = '\" +/user\\/([^/]+)\\//.exec(Jupyter.notebook.base_url)[1] + \"'\"; \n",
    "\n",
    "kernel.execute(command2);\"\"\"))\n",
    "\n",
    "import requests\n",
    "from time import gmtime, strftime\n",
    "from IPython.display import clear_output\n",
    "\n",
    "user_ns = tuple(get_ipython().user_ns.items())\n",
    "user_id = 'mani'\n",
    "lab_name = 'Lab-data-structures-in-python-guided2.ipynb'\n",
    "import os\n",
    "\n",
    "def display_result(result, res_code):\n",
    "    from IPython.display import display, HTML\n",
    "    js = \"<style>p.res {background-color: lightblue;} p.pas {color: green;text-align: center;font-size: 150%;} p.fail {color: red;text-align: center;font-size: 150%;}  p.wait {color: blue;text-align: center;font-size: 150%;} p.center {text-align: center;font-size: 200%;}</style>\"\n",
    "    if res_code == 'PASS':\n",
    "        #js = js + \"<script>$('#notebook-container').after('<p id=lastidp class=pas>%s</p>')</script>\"   % result\n",
    "        js = js + \"<script>$('#lastidp').replaceWith('<p id=lastidp class=pas>%s</p>')</script>)\"   % result\n",
    "    elif res_code == 'FAIL':\n",
    "        js = js + \"<script>$('#lastidp').replaceWith('<p id=lastidp class=fail>%s</p>')</script>\"   % result\n",
    "    else:\n",
    "        js = js + \"\"\"<script>\n",
    "        if($('#lastidp').length){\n",
    "        $('#lastidp').replaceWith('<p id=lastidp class=wait>%s</p>')\n",
    "        }else{\n",
    "        $('#notebook-container').after('<p id=lastidp class=wait>%s</p>')\n",
    "        }\n",
    "        </script>\n",
    "        \"\"\"   % (result,result)\n",
    "    display(HTML(js))\n",
    "\n",
    "display_result('','WAIT')\n",
    "    \n",
    "# if value_type == int:\n",
    "for name, value in user_ns:\n",
    "    if name == 'user_id':\n",
    "        user_id = value\n",
    "    if name == 'nb_name':\n",
    "        lab_name = value\n",
    "        lab_name = os.path.basename(lab_name).split('.')[0]\n",
    "\n",
    "input_content_file = lab_name + '.ipynb'\n",
    "\n",
    "f = {'file': open(input_content_file,'rb')}\n",
    "d = {'user': user_id}\n",
    "r = requests.post('http://autograde.refactored.ai/uploader', data=d, files=f)\n",
    "#r = requests.post('http://localhost:5000/uploader', data=d, files=f)\n",
    "tm = strftime(\"%Y-%m-%d %H:%M:%S\", gmtime())\n",
    "msg = r.json()['result']['message'][0]\n",
    "res = r.json()['result']['result']\n",
    "answerid = r.json()['answerid']\n",
    "result = tm + ' - ' + msg + '    Answerid is : ' + str(answerid) \n",
    "#score = r.json()['result']['score']\n",
    "#result = tm + ' - ' + msg + '    Your result is : ' + res + '     And the score is : ' + str(score)\n",
    "#print(result)\n",
    "display_result(result,'WAIT')\n",
    "\n",
    "import time\n",
    "count = 0\n",
    "while True:\n",
    "    #r = requests.get('http://localhost:5000/get_result?answer_id=' + str(answerid))\n",
    "    r = requests.get('http://autograde.refactored.ai/get_result?answer_id=' + str(answerid))\n",
    "    res = r.json()['result']['result']\n",
    "    if res != 'WAIT':\n",
    "        tm = strftime(\"%Y-%m-%d %H:%M:%S\", gmtime())\n",
    "        msg = r.json()['result']['message'][0]\n",
    "        res = r.json()['result']['result']\n",
    "        score = r.json()['result']['score']\n",
    "        result = tm + ' - ' + msg + ',    Your result is : ' + res + '    And your score is : ' + str(score) \n",
    "        clear_output(wait=True)\n",
    "        break\n",
    "    else:\n",
    "        if(count ==0):\n",
    "            print('Waiting for your score......')\n",
    "        count = count + 1\n",
    "        time.sleep(10)\n",
    "        if(count > 10):\n",
    "            result = 'Error occurred during evaluation. Please resubmit.'\n",
    "            break\n",
    "\n",
    "display_result(result,res)\n"
   ]
  }
 ],
 "metadata": {
  "celltoolbar": "Tags",
  "kernelspec": {
   "display_name": "Python 3",
   "language": "python",
   "name": "python3"
  },
  "language_info": {
   "codemirror_mode": {
    "name": "ipython",
    "version": 3
   },
   "file_extension": ".py",
   "mimetype": "text/x-python",
   "name": "python",
   "nbconvert_exporter": "python",
   "pygments_lexer": "ipython3",
   "version": "3.7.4"
  }
 },
 "nbformat": 4,
 "nbformat_minor": 4
}
